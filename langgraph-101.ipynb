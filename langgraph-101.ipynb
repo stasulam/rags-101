{
 "cells": [
  {
   "cell_type": "code",
   "execution_count": 18,
   "id": "68f73a5f-82cf-4762-981a-9d96cf46bad6",
   "metadata": {},
   "outputs": [],
   "source": [
    "from typing import TypedDict, List\n",
    "\n",
    "from langchain.chains import RetrievalQA\n",
    "from langgraph.graph import StateGraph, END\n",
    "from langchain.prompts import ChatPromptTemplate\n",
    "from langchain.text_splitter import RecursiveCharacterTextSplitter\n",
    "from langchain.vectorstores import Chroma\n",
    "from langchain_ollama import OllamaEmbeddings, OllamaLLM\n",
    "\n",
    "# Podział dokumentów na fragmenty\n",
    "splitter = RecursiveCharacterTextSplitter(chunk_size=100, chunk_overlap=25)\n",
    "docs = splitter.create_documents([text])\n",
    "\n",
    "# Tworzymy embeddingi przez Ollama\n",
    "embeddings = OllamaEmbeddings(model=\"phi4\")\n",
    "\n",
    "# Tworzymy bazę Chroma\n",
    "db = Chroma.from_documents(docs, embeddings)"
   ]
  },
  {
   "cell_type": "markdown",
   "id": "b7100d33-9384-495c-a37e-2e6c82a76dc1",
   "metadata": {},
   "source": [
    "**Dokument wejściowy**."
   ]
  },
  {
   "cell_type": "code",
   "execution_count": null,
   "id": "84f4b69f-b8d2-42e0-a9d5-cf9896df5c31",
   "metadata": {},
   "outputs": [],
   "source": [
    "text = \"\"\"\n",
    "Warszawa jest stolicą Polski. Kraków był dawną stolicą Polski i jest znany z zabytków.\n",
    "Gdańsk leży nad Morzem Bałtyckim. Wrocław słynie z mostów i krasnali.\n",
    "\"\"\""
   ]
  },
  {
   "cell_type": "markdown",
   "id": "fca0fad9-079c-4704-82b0-a108132831e3",
   "metadata": {},
   "source": [
    "Podział dokumentów na fragmenty."
   ]
  },
  {
   "cell_type": "code",
   "execution_count": 19,
   "id": "e3695d4a-ea22-4f8e-ba90-bbd4d3021cfe",
   "metadata": {},
   "outputs": [
    {
     "data": {
      "text/plain": [
       "[Document(metadata={}, page_content='Warszawa jest stolicą Polski. Kraków był dawną stolicą Polski i jest znany z zabytków.'),\n",
       " Document(metadata={}, page_content='Gdańsk leży nad Morzem Bałtyckim. Wrocław słynie z mostów i krasnali.')]"
      ]
     },
     "execution_count": 19,
     "metadata": {},
     "output_type": "execute_result"
    }
   ],
   "source": [
    "docs"
   ]
  },
  {
   "cell_type": "code",
   "execution_count": 13,
   "id": "94d0d515-ac30-4495-ac82-8018064b1282",
   "metadata": {},
   "outputs": [],
   "source": [
    "\n",
    "\n",
    "retriever_llm = Ollama(model=\"phi4\")\n",
    "\n",
    "retriever_agent = RetrievalQA.from_chain_type(\n",
    "    llm=retriever_llm,\n",
    "    chain_type=\"stuff\",\n",
    "    retriever=db.as_retriever()\n",
    ")"
   ]
  },
  {
   "cell_type": "code",
   "execution_count": 14,
   "id": "584c6d73-7be1-45a9-84ef-8cdee22a4e44",
   "metadata": {},
   "outputs": [],
   "source": [
    "template = \"\"\"Odpowiedz krótko na pytanie, używając kontekstu poniżej:\n",
    "\n",
    "Kontekst:\n",
    "{context}\n",
    "\n",
    "Pytanie: {question}\n",
    "Odpowiedź:\n",
    "\"\"\"\n",
    "\n",
    "prompt = ChatPromptTemplate.from_template(template)\n",
    "\n",
    "generator_llm = Ollama(model=\"phi4\")\n",
    "\n",
    "def generate_answer(question, context):\n",
    "    formatted_prompt = prompt.format(context=context, question=question)\n",
    "    response = generator_llm.invoke(formatted_prompt)\n",
    "    return response\n"
   ]
  },
  {
   "cell_type": "code",
   "execution_count": 15,
   "id": "f6370432-725d-4e0a-9bc3-55f40a3ad6b8",
   "metadata": {},
   "outputs": [],
   "source": [
    "\n",
    "\n",
    "# Definiujemy stan przepływu\n",
    "class GraphState(TypedDict):\n",
    "    question: str\n",
    "    documents: List[str]\n",
    "    answer: str\n",
    "\n",
    "graph = StateGraph(GraphState)\n",
    "\n",
    "# Funkcja węzła Retrieval\n",
    "def retrieve(state):\n",
    "    question = state[\"question\"]\n",
    "    result = retriever_agent.invoke(question)\n",
    "    documents = [result['result']]\n",
    "    return {\"documents\": documents, \"question\": question}\n",
    "\n",
    "# Funkcja węzła Generation\n",
    "def generate(state):\n",
    "    question = state[\"question\"]\n",
    "    documents = \"\\n\".join(state[\"documents\"])\n",
    "    answer = generate_answer(question, documents)\n",
    "    return {\"answer\": answer}\n",
    "\n",
    "# Dodajemy węzły\n",
    "graph.add_node(\"retrieve\", retrieve)\n",
    "graph.add_node(\"generate\", generate)\n",
    "\n",
    "# Definiujemy przepływ\n",
    "graph.set_entry_point(\"retrieve\")\n",
    "graph.add_edge(\"retrieve\", \"generate\")\n",
    "graph.add_edge(\"generate\", END)\n",
    "\n",
    "# Kompilujemy graf\n",
    "rag_graph = graph.compile()"
   ]
  },
  {
   "cell_type": "code",
   "execution_count": 16,
   "id": "bb625877-7c6a-4003-bf6c-10e3a6b9a49e",
   "metadata": {},
   "outputs": [
    {
     "name": "stdout",
     "output_type": "stream",
     "text": [
      "Odpowiedź: Wrocław jest znane z mostów.\n",
      "\n",
      "\n"
     ]
    }
   ],
   "source": [
    "question = \"Które miasto w Polsce jest znane z mostów?\"\n",
    "\n",
    "result = rag_graph.invoke({\"question\": question})\n",
    "\n",
    "print(\"Odpowiedź:\", result[\"answer\"])"
   ]
  },
  {
   "cell_type": "code",
   "execution_count": 17,
   "id": "7b5db6ac-5655-46cf-9b85-f66def3247c8",
   "metadata": {},
   "outputs": [
    {
     "data": {
      "image/png": "[encoded data removed]",
      "text/plain": [
       "<IPython.core.display.Image object>"
      ]
     },
     "execution_count": 17,
     "metadata": {},
     "output_type": "execute_result"
    }
   ],
   "source": [
    "from IPython.display import Image\n",
    "\n",
    "# Zakładając, że masz już stworzony 'rag_graph'\n",
    "rag_graph.get_graph().draw_png(\"graph.png\")\n",
    "\n",
    "# Wyświetlenie grafu (w Jupyter Notebook lub Google Colab)\n",
    "Image(filename=\"graph.png\")"
   ]
  },
  {
   "cell_type": "code",
   "execution_count": null,
   "id": "f6c1a069-52b1-413e-87ae-96fa4de7c925",
   "metadata": {},
   "outputs": [],
   "source": []
  }
 ],
 "metadata": {
  "kernelspec": {
   "display_name": "Python 3 (ipykernel)",
   "language": "python",
   "name": "python3"
  },
  "language_info": {
   "codemirror_mode": {
    "name": "ipython",
    "version": 3
   },
   "file_extension": ".py",
   "mimetype": "text/x-python",
   "name": "python",
   "nbconvert_exporter": "python",
   "pygments_lexer": "ipython3",
   "version": "3.12.2"
  }
 },
 "nbformat": 4,
 "nbformat_minor": 5
}
