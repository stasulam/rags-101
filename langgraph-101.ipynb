{
 "cells": [
  {
   "cell_type": "code",
   "execution_count": 1,
   "id": "68f73a5f-82cf-4762-981a-9d96cf46bad6",
   "metadata": {},
   "outputs": [],
   "source": [
    "from typing import TypedDict, List\n",
    "\n",
    "from langchain.chains import RetrievalQA\n",
    "from langgraph.graph import StateGraph, END\n",
    "from langchain.prompts import ChatPromptTemplate\n",
    "from langchain.text_splitter import RecursiveCharacterTextSplitter\n",
    "from langchain.vectorstores import Chroma\n",
    "from langchain_ollama import OllamaEmbeddings, OllamaLLM"
   ]
  },
  {
   "cell_type": "markdown",
   "id": "b7100d33-9384-495c-a37e-2e6c82a76dc1",
   "metadata": {},
   "source": [
    "**Dokument wejściowy**."
   ]
  },
  {
   "cell_type": "code",
   "execution_count": 2,
   "id": "84f4b69f-b8d2-42e0-a9d5-cf9896df5c31",
   "metadata": {},
   "outputs": [],
   "source": [
    "text = \"\"\"\n",
    "Warszawa jest miastem w centralnej Polsce. Kraków był dawną stolicą Polski i jest znany z zabytków.\n",
    "Gdańsk leży nad Morzem Bałtyckim. Wrocław słynie z mostów i krasnali.\n",
    "Pałac Namiestnikowski, będacy siedziba prezydenta RP, mieści się w Warszawie.\n",
    "Poznań jest znany z koziołków.\n",
    "Prezydent kraju urzęduje w stolicy.\n",
    "\"\"\""
   ]
  },
  {
   "cell_type": "markdown",
   "id": "fca0fad9-079c-4704-82b0-a108132831e3",
   "metadata": {},
   "source": [
    "Podział dokumentów na fragmenty."
   ]
  },
  {
   "cell_type": "code",
   "execution_count": 3,
   "id": "e3695d4a-ea22-4f8e-ba90-bbd4d3021cfe",
   "metadata": {},
   "outputs": [],
   "source": [
    "splitter = RecursiveCharacterTextSplitter(chunk_size=100, chunk_overlap=25)\n",
    "docs = splitter.create_documents([text])"
   ]
  },
  {
   "cell_type": "code",
   "execution_count": 4,
   "id": "8659de0b-86b3-433a-935b-2389136d717e",
   "metadata": {},
   "outputs": [
    {
     "data": {
      "text/plain": [
       "[Document(metadata={}, page_content='Warszawa jest miastem w centralnej Polsce. Kraków był dawną stolicą Polski i jest znany z zabytków.'),\n",
       " Document(metadata={}, page_content='Gdańsk leży nad Morzem Bałtyckim. Wrocław słynie z mostów i krasnali.'),\n",
       " Document(metadata={}, page_content='Pałac Namiestnikowski, będacy siedziba prezydenta RP, mieści się w Warszawie.'),\n",
       " Document(metadata={}, page_content='Poznań jest znany z koziołków.\\nPrezydent kraju urzęduje w stolicy.')]"
      ]
     },
     "execution_count": 4,
     "metadata": {},
     "output_type": "execute_result"
    }
   ],
   "source": [
    "docs"
   ]
  },
  {
   "cell_type": "markdown",
   "id": "9d9de45b-be0a-419e-ad8c-5703a2763753",
   "metadata": {},
   "source": [
    "Tworzymy embeddingi przez Ollama."
   ]
  },
  {
   "cell_type": "code",
   "execution_count": 5,
   "id": "8e97b3e8-bbba-44fe-9d3d-1ac70958ee79",
   "metadata": {},
   "outputs": [],
   "source": [
    "embeddings = OllamaEmbeddings(model=\"phi4\")"
   ]
  },
  {
   "cell_type": "markdown",
   "id": "134a298a-ed3d-44c9-9267-ae5b9630b856",
   "metadata": {},
   "source": [
    "Tworzymy bazę Chroma."
   ]
  },
  {
   "cell_type": "code",
   "execution_count": 6,
   "id": "3e3b6af3-8ae2-4b99-b27c-14c8ca98d2fa",
   "metadata": {},
   "outputs": [],
   "source": [
    "db = Chroma.from_documents(docs, embeddings)"
   ]
  },
  {
   "cell_type": "markdown",
   "id": "0ecf4aeb-0cf4-47ac-903f-413cca125899",
   "metadata": {},
   "source": [
    "Definiujemy `retriever`."
   ]
  },
  {
   "cell_type": "code",
   "execution_count": 7,
   "id": "ee227af4-9460-4bd9-aca1-dec00d7a5b57",
   "metadata": {},
   "outputs": [],
   "source": [
    "retriever = db.as_retriever()"
   ]
  },
  {
   "cell_type": "markdown",
   "id": "c4208430-1673-48aa-9d7d-68badeab68f9",
   "metadata": {},
   "source": [
    "Definiujemy model, który będzie służył do obsługi `pipeline`."
   ]
  },
  {
   "cell_type": "code",
   "execution_count": 8,
   "id": "1d1e6209-9e99-4c7f-8443-10ecb86ecb57",
   "metadata": {},
   "outputs": [],
   "source": [
    "llm = OllamaLLM(model=\"phi4\")"
   ]
  },
  {
   "cell_type": "markdown",
   "id": "57a7306b-7d84-4d51-bb8f-22faa26ec045",
   "metadata": {},
   "source": [
    "# Stan w grafie."
   ]
  },
  {
   "cell_type": "code",
   "execution_count": 9,
   "id": "92f51860-8e92-48fb-8bfd-db59fe80fa0a",
   "metadata": {},
   "outputs": [],
   "source": [
    "class GraphState(TypedDict):\n",
    "    question: str\n",
    "    queries: list[str]\n",
    "    documents: list[str]\n",
    "    answer: str\n",
    "    answer_pl: str"
   ]
  },
  {
   "cell_type": "code",
   "execution_count": 10,
   "id": "e79aa51e-3975-4c7a-ab59-baa39c997b42",
   "metadata": {},
   "outputs": [],
   "source": [
    "state = GraphState(\n",
    "    question=\"Jakie miasto jest stolica Polski?\"\n",
    ")"
   ]
  },
  {
   "cell_type": "code",
   "execution_count": 11,
   "id": "a8bee992-fffd-45b9-b0e1-ef8f9bc56da3",
   "metadata": {},
   "outputs": [
    {
     "data": {
      "text/plain": [
       "{'question': 'Jakie miasto jest stolica Polski?'}"
      ]
     },
     "execution_count": 11,
     "metadata": {},
     "output_type": "execute_result"
    }
   ],
   "source": [
    "state"
   ]
  },
  {
   "cell_type": "markdown",
   "id": "9ebb22f9-177f-41c6-a0fb-b83f2e3213a7",
   "metadata": {},
   "source": [
    "# Węzły LangGraph."
   ]
  },
  {
   "cell_type": "markdown",
   "id": "fddd95a3-8a71-467c-af09-8d15c2045363",
   "metadata": {},
   "source": [
    "Pytanie od użytkownika."
   ]
  },
  {
   "cell_type": "code",
   "execution_count": 12,
   "id": "87dbfda1-f317-4e8f-a483-cdd28120f246",
   "metadata": {},
   "outputs": [],
   "source": [
    "def get_user_question(state: GraphState) -> GraphState:\n",
    "    return state"
   ]
  },
  {
   "cell_type": "markdown",
   "id": "c8d991a6-5ab3-4270-ad9d-b3e40d75c89f",
   "metadata": {},
   "source": [
    "Generowanie 5 alternatywnych zapytań."
   ]
  },
  {
   "cell_type": "code",
   "execution_count": 13,
   "id": "da0bb6ff-37d9-4452-b9e5-2a7dd6a2bae2",
   "metadata": {},
   "outputs": [],
   "source": [
    "def generate_queries(state: GraphState) -> GraphState:\n",
    "    question = state[\"question\"]\n",
    "    prompt = f\"\"\"\n",
    "        Wygeneruj 5 różnych, precyzyjnych zapytań, które pomogą znaleźć informacje dla pytania:\n",
    "        \\n\\n\\\n",
    "        \"{question}\"\n",
    "        \\n\\n\n",
    "        Oddziel każde zapytanie znakiem ###\n",
    "    \"\"\"\n",
    "    response = llm.invoke(prompt)\n",
    "    queries = [q.strip() for q in response.split(\"###\") if q.strip()]\n",
    "    return {**state, \"queries\": queries[:5]}"
   ]
  },
  {
   "cell_type": "code",
   "execution_count": 14,
   "id": "0da64970-42f1-429b-8612-23b4f1146f43",
   "metadata": {},
   "outputs": [],
   "source": [
    "state = generate_queries(state)"
   ]
  },
  {
   "cell_type": "markdown",
   "id": "ffc3f389-c8a0-4516-947b-c9f3236480f5",
   "metadata": {},
   "source": [
    "Wyszukiwanie dokumentów dla każdej kwerendy."
   ]
  },
  {
   "cell_type": "code",
   "execution_count": 15,
   "id": "dd25b76b-7f90-4421-ad02-5f23dd1a2c46",
   "metadata": {},
   "outputs": [],
   "source": [
    "def multi_retrieve(state: GraphState) -> GraphState:\n",
    "    docs = list()\n",
    "    for q in state[\"queries\"]:\n",
    "        result = retriever.invoke(q)\n",
    "        docs.extend(result)\n",
    "    # Usunięcie duplikatów i ekstrakcja tekstu.\n",
    "    unique = list({d.page_content for d in docs})\n",
    "    return {**state, \"documents\": unique}"
   ]
  },
  {
   "cell_type": "code",
   "execution_count": 16,
   "id": "0790716e-580d-436f-b744-6b6e0723db9a",
   "metadata": {},
   "outputs": [],
   "source": [
    "state = multi_retrieve(state)"
   ]
  },
  {
   "cell_type": "code",
   "execution_count": 17,
   "id": "09bb3bf8-7b61-4e63-874f-f6ffb97455d5",
   "metadata": {},
   "outputs": [
    {
     "data": {
      "text/plain": [
       "{'question': 'Jakie miasto jest stolica Polski?',\n",
       " 'queries': ['1. Jaka jest oficjalna stolica Republiki Polskiej?',\n",
       "  '2. W którym mieście znajduje się główny skład rządu polskiego?',\n",
       "  '3. Gdzie są zlokalizowane najważniejsze instytucje państwowe i dyplomatyczne w Polsce?',\n",
       "  '4. Jakie miasto jest centrum życia politycznego oraz kulturalnym sercem Polski?',\n",
       "  '5. W jaki sposób zostało wybrane stolice Polski podczas powstania niepodległej państwa po I wojnie światowej?'],\n",
       " 'documents': ['Warszawa jest miastem w centralnej Polsce. Kraków był dawną stolicą Polski i jest znany z zabytków.',\n",
       "  'Gdańsk leży nad Morzem Bałtyckim. Wrocław słynie z mostów i krasnali.',\n",
       "  'Pałac Namiestnikowski, będacy siedziba prezydenta RP, mieści się w Warszawie.',\n",
       "  'Poznań jest znany z koziołków.\\nPrezydent kraju urzęduje w stolicy.']}"
      ]
     },
     "execution_count": 17,
     "metadata": {},
     "output_type": "execute_result"
    }
   ],
   "source": [
    "state"
   ]
  },
  {
   "cell_type": "markdown",
   "id": "66100f18-9999-481e-9384-5270097073c3",
   "metadata": {},
   "source": [
    "Generowanie odpowiedzi i prezentowanie kontekstu."
   ]
  },
  {
   "cell_type": "code",
   "execution_count": 18,
   "id": "f91e91fc-d543-4138-b35e-63ee6f7e28df",
   "metadata": {},
   "outputs": [],
   "source": [
    "def generate_final_answer(state: GraphState) -> GraphState:\n",
    "    question = state[\"question\"]\n",
    "    context = \"\\n\".join(state[\"documents\"])\n",
    "    prompt = f\"\"\"Na podstawie poniższego kontekstu,\n",
    "    odpowiedz na pytanie:\n",
    "\n",
    "Kontekst:\n",
    "{context}\n",
    "\n",
    "Pytanie:\n",
    "{question}\n",
    "\n",
    "\"\"\"\n",
    "    answer = llm.invoke(prompt)\n",
    "    return {**state, \"answer\": answer}"
   ]
  },
  {
   "cell_type": "markdown",
   "id": "5bb56b48-5eb1-4976-9349-33c5ecdbbea7",
   "metadata": {},
   "source": [
    "Zadbaj o poprawność gramatyczna i dobierz odpowiednie słownictwo przygotowujac odpowiedź w języku polskim."
   ]
  },
  {
   "cell_type": "code",
   "execution_count": 25,
   "id": "03aad624-b792-4c80-a3c8-b76bf635b4f2",
   "metadata": {},
   "outputs": [],
   "source": [
    "def fix_grammar(state: GraphState) -> GraphState:\n",
    "    answer = state[\"answer\"]\n",
    "    prompt = f\"\"\"Zastanów się, czy możesz poprawić poprawność gramatyczna i słownictwo\n",
    "    modyfikujac odpowiedz, która przygotowałeś, tak, aby była napisana doskonała polszczyzna.\n",
    "\n",
    "    Twoja odpowiedz:\n",
    "    \n",
    "    {answer}\n",
    "\n",
    "    Zwróć wyłacznie treść poprawionej odpowiedzi.\n",
    "    \"\"\"\n",
    "    answer_pl = llm.invoke(prompt)\n",
    "    return {**state, \"answer_pl\": answer_pl}"
   ]
  },
  {
   "cell_type": "code",
   "execution_count": 26,
   "id": "b80f5e0b-0068-4f25-858d-22ab9f9a82db",
   "metadata": {},
   "outputs": [],
   "source": [
    "graph = StateGraph(GraphState)\n",
    "\n",
    "graph.add_node(\"get_question\", get_user_question)\n",
    "graph.add_node(\"generate_queries\", generate_queries)\n",
    "graph.add_node(\"multi_retrieve\", multi_retrieve)\n",
    "graph.add_node(\"generate_answer\", generate_final_answer)\n",
    "graph.add_node(\"fix_grammar\", fix_grammar)\n",
    "\n",
    "graph.set_entry_point(\"get_question\")\n",
    "graph.add_edge(\"get_question\", \"generate_queries\")\n",
    "graph.add_edge(\"generate_queries\", \"multi_retrieve\")\n",
    "graph.add_edge(\"multi_retrieve\", \"generate_answer\")\n",
    "graph.add_edge(\"generate_answer\", \"fix_grammar\")\n",
    "graph.add_edge(\"fix_grammar\", END)\n",
    "\n",
    "rag_graph = graph.compile()"
   ]
  },
  {
   "cell_type": "markdown",
   "id": "86b39518-5845-4ca3-ba8b-f4fe8254ee2b",
   "metadata": {},
   "source": [
    "Wizualizacja grafu."
   ]
  },
  {
   "cell_type": "code",
   "execution_count": 27,
   "id": "14a1869e-689e-4b52-af0e-ce8403ddcb89",
   "metadata": {},
   "outputs": [
    {
     "data": {
      "image/png": "[encoded data removed]",
      "text/plain": [
       "<IPython.core.display.Image object>"
      ]
     },
     "execution_count": 27,
     "metadata": {},
     "output_type": "execute_result"
    }
   ],
   "source": [
    "from IPython.display import Image\n",
    "\n",
    "rag_graph.get_graph().draw_png(\"graph.png\")\n",
    "\n",
    "Image(\"graph.png\")"
   ]
  },
  {
   "cell_type": "markdown",
   "id": "a45809ad-0c1e-4a6c-8678-1f2a9dbad148",
   "metadata": {},
   "source": [
    "Uruchomienie przepływu."
   ]
  },
  {
   "cell_type": "code",
   "execution_count": 28,
   "id": "42f19a01-c581-4e2c-b97c-8df0b24d02af",
   "metadata": {},
   "outputs": [],
   "source": [
    "question = \"\"\"\n",
    "    Czy na podstawie informacji, które otrzymałeś, jesteś w stanie stwierdzić,\n",
    "    czy prezydent kraju urzęduje w jego stolicy? Jeśli tak, to jakie miasto jest\n",
    "    stolica Polski? Jeśli nie, to poinformuj, że nie masz wystarczajcych informacji,\n",
    "    aby odpowiedzieć na to pytanie. Przedstaw swój tok rozumowania.\n",
    "\"\"\"\n",
    "\n",
    "result = rag_graph.invoke({\"question\": question})"
   ]
  },
  {
   "cell_type": "code",
   "execution_count": 29,
   "id": "d7cec309-188b-474e-b35b-2a90a045c40a",
   "metadata": {},
   "outputs": [
    {
     "name": "stdout",
     "output_type": "stream",
     "text": [
      "Na podstawie dostarczonego kontekstu można stwierdzić kilka rzeczy dotyczących urzędu prezydenta i stolicy Polski:\n",
      "\n",
      "1. Kontekst informuje, że \"Pałac Namiestnikowski, będący siedzibą prezydenta RP, mieści się w Warszawie.\" Oznacza to, że obecna siedziba prezydenta Polski znajduje się w Warszawie.\n",
      "\n",
      "2. Kontekst potwierdza również, że \"Prezydent kraju urzęduje w stolicy.\"\n",
      "\n",
      "Biorąc pod uwagę te dwie informacje, można doszedł do wniosku:\n",
      "- Ponieważ prezydent Polski urzęduje w stolicy i Pałac Namiestnikowski (siedziba prezydenta) znajduje się w Warszawie, to miejsce, gdzie prezydent urzęduje, musi być stolicą kraju.\n",
      "\n",
      "3. Dodatkowo kontekst nie wymienia żadnych innych miast jako obecnej stolicy Polski poza Warszawą, chociaż wspomina o historycznym znaczeniu Krakowa jako dawnej stolicy.\n",
      "\n",
      "Zatem, na podstawie dostępnych informacji można z pewnością stwierdzić, że prezydent kraju urzęduje w jego stolicy, a to miasto to Warszawa. Zatem Warszawa jest stolicą Polski.\n"
     ]
    }
   ],
   "source": [
    "print(result[\"answer\"])"
   ]
  },
  {
   "cell_type": "code",
   "execution_count": null,
   "id": "62929c5f-bb46-4576-9f88-b6ba3de026c6",
   "metadata": {},
   "outputs": [],
   "source": []
  }
 ],
 "metadata": {
  "kernelspec": {
   "display_name": "Python 3 (ipykernel)",
   "language": "python",
   "name": "python3"
  },
  "language_info": {
   "codemirror_mode": {
    "name": "ipython",
    "version": 3
   },
   "file_extension": ".py",
   "mimetype": "text/x-python",
   "name": "python",
   "nbconvert_exporter": "python",
   "pygments_lexer": "ipython3",
   "version": "3.12.2"
  }
 },
 "nbformat": 4,
 "nbformat_minor": 5
}
